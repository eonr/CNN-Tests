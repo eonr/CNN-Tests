{
  "nbformat": 4,
  "nbformat_minor": 0,
  "metadata": {
    "colab": {
      "name": "MNIST-2.ipynb",
      "version": "0.3.2",
      "provenance": []
    },
    "kernelspec": {
      "name": "python3",
      "display_name": "Python 3"
    },
    "accelerator": "GPU"
  },
  "cells": [
    {
      "metadata": {
        "id": "uYHgxPiedr15",
        "colab_type": "code",
        "colab": {
          "base_uri": "https://localhost:8080/",
          "height": 54
        },
        "outputId": "2b2102d0-4a6d-40f5-cfbe-21a1c525c038"
      },
      "cell_type": "code",
      "source": [
        "from os import path\n",
        "from wheel.pep425tags import get_abbr_impl, get_impl_ver, get_abi_tag\n",
        "platform = '{}{}-{}'.format(get_abbr_impl(), get_impl_ver(), get_abi_tag())\n",
        "\n",
        "accelerator = 'cu80' if path.exists('/opt/bin/nvidia-smi') else 'cpu'\n",
        "\n",
        "!pip install -q http://download.pytorch.org/whl/{accelerator}/torch-0.4.0-{platform}-linux_x86_64.whl torchvision\n",
        "import torch\n",
        "print(torch.__version__)\n",
        "print(torch.cuda.is_available())"
      ],
      "execution_count": 1,
      "outputs": [
        {
          "output_type": "stream",
          "text": [
            "0.4.0\n",
            "True\n"
          ],
          "name": "stdout"
        }
      ]
    },
    {
      "metadata": {
        "id": "6WXSslxueGlC",
        "colab_type": "code",
        "colab": {
          "base_uri": "https://localhost:8080/",
          "height": 326
        },
        "outputId": "0a6c3f20-a488-49d4-ae88-ed9520f43a71"
      },
      "cell_type": "code",
      "source": [
        "!pip3 install Pillow==4.0.0\n",
        "!pip3 install PIL\n",
        "!pip3 install image"
      ],
      "execution_count": 2,
      "outputs": [
        {
          "output_type": "stream",
          "text": [
            "Collecting Pillow==4.0.0\n",
            "  Using cached https://files.pythonhosted.org/packages/37/e8/b3fbf87b0188d22246678f8cd61e23e31caa1769ebc06f1664e2e5fe8a17/Pillow-4.0.0-cp36-cp36m-manylinux1_x86_64.whl\n",
            "Requirement already satisfied: olefile in /usr/local/lib/python3.6/dist-packages (from Pillow==4.0.0) (0.45.1)\n",
            "\u001b[31mtorchvision 0.2.1 has requirement pillow>=4.1.1, but you'll have pillow 4.0.0 which is incompatible.\u001b[0m\n",
            "Installing collected packages: Pillow\n",
            "  Found existing installation: Pillow 5.2.0\n",
            "    Uninstalling Pillow-5.2.0:\n",
            "      Successfully uninstalled Pillow-5.2.0\n",
            "Successfully installed Pillow-4.0.0\n",
            "Collecting PIL\n",
            "\u001b[31m  Could not find a version that satisfies the requirement PIL (from versions: )\u001b[0m\n",
            "\u001b[31mNo matching distribution found for PIL\u001b[0m\n",
            "Requirement already satisfied: image in /usr/local/lib/python3.6/dist-packages (1.5.24)\n",
            "Requirement already satisfied: pillow in /usr/local/lib/python3.6/dist-packages (from image) (4.0.0)\n",
            "Requirement already satisfied: django in /usr/local/lib/python3.6/dist-packages (from image) (2.1)\n",
            "Requirement already satisfied: olefile in /usr/local/lib/python3.6/dist-packages (from pillow->image) (0.45.1)\n",
            "Requirement already satisfied: pytz in /usr/local/lib/python3.6/dist-packages (from django->image) (2018.5)\n"
          ],
          "name": "stdout"
        }
      ]
    },
    {
      "metadata": {
        "id": "zfvjddlFeIxv",
        "colab_type": "code",
        "colab": {}
      },
      "cell_type": "code",
      "source": [
        "import torch\n",
        "import torchvision\n",
        "import torchvision.transforms as transforms\n",
        "import torchvision.datasets\n",
        "import torch.nn as nn\n",
        "import torch.nn.functional as F"
      ],
      "execution_count": 0,
      "outputs": []
    },
    {
      "metadata": {
        "id": "_5BD05hzyy5P",
        "colab_type": "code",
        "colab": {}
      },
      "cell_type": "code",
      "source": [
        "trans = transforms.Compose([transforms.RandomRotation(15),transforms.ToTensor(),transforms.Normalize([0.5],[0.5])])"
      ],
      "execution_count": 0,
      "outputs": []
    },
    {
      "metadata": {
        "id": "jshnLdrbPPCn",
        "colab_type": "code",
        "colab": {}
      },
      "cell_type": "code",
      "source": [
        "testrans = transforms.Compose([transforms.ToTensor(),transforms.Normalize([0.5],[0.5])])"
      ],
      "execution_count": 0,
      "outputs": []
    },
    {
      "metadata": {
        "id": "YoBaCWsrel3U",
        "colab_type": "code",
        "colab": {}
      },
      "cell_type": "code",
      "source": [
        "trainset = torchvision.datasets.MNIST(root='./data',train=True,download=True,transform=trans)"
      ],
      "execution_count": 0,
      "outputs": []
    },
    {
      "metadata": {
        "id": "fZFRfsdMe7aR",
        "colab_type": "code",
        "colab": {}
      },
      "cell_type": "code",
      "source": [
        "testset = torchvision.datasets.MNIST(root='./data',train=False,download=True,transform=testrans)"
      ],
      "execution_count": 0,
      "outputs": []
    },
    {
      "metadata": {
        "id": "4MJAVW5thgA7",
        "colab_type": "code",
        "colab": {}
      },
      "cell_type": "code",
      "source": [
        "train_loader = torch.utils.data.DataLoader(\n",
        "                 dataset=trainset,\n",
        "                 shuffle=True,batch_size=40)"
      ],
      "execution_count": 0,
      "outputs": []
    },
    {
      "metadata": {
        "id": "zSM---24h3jy",
        "colab_type": "code",
        "colab": {}
      },
      "cell_type": "code",
      "source": [
        "test_loader = torch.utils.data.DataLoader(dataset=testset,shuffle=True)"
      ],
      "execution_count": 0,
      "outputs": []
    },
    {
      "metadata": {
        "id": "yi6o55Vkh840",
        "colab_type": "code",
        "colab": {}
      },
      "cell_type": "code",
      "source": [
        "class Net(nn.Module):\n",
        "    def __init__(self):\n",
        "        super(Net, self).__init__()\n",
        "        self.conv1 = nn.Conv2d(1, 32,3)\n",
        "        self.pool = nn.MaxPool2d(2, 2)\n",
        "        self.conv2 = nn.Conv2d(32, 32, 3)\n",
        "        self.conv3 = nn.Conv2d(32,64,3,padding=1)\n",
        "        self.conv4 = nn.Conv2d(64,64,3,padding=1)        \n",
        "        self.conv5 = nn.Conv2d(64,128,3,padding=1)\n",
        "        self.bnorm = nn.BatchNorm2d(128)\n",
        "        self.fc1 = nn.Linear(1152, 10)\n",
        "\n",
        "    def forward(self, x):\n",
        "        x = (F.relu(self.conv1(x)))\n",
        "        x = (F.relu(self.conv2(x)))\n",
        "        x = self.pool(x)\n",
        "        x = F.dropout(x,p=0.3)\n",
        "        x = F.relu(self.conv3(x))\n",
        "        x = F.relu(self.conv4(x))\n",
        "        x = self.pool(x)\n",
        "        x = F.dropout(x,p=0.3)\n",
        "        x = (F.relu(self.conv5(x)))\n",
        "        x = self.pool(x)\n",
        "        x = self.bnorm(x)\n",
        "        x = x.view(-1, 1152)\n",
        "        x = self.fc1(x)\n",
        "        return x"
      ],
      "execution_count": 0,
      "outputs": []
    },
    {
      "metadata": {
        "id": "X5oQO8wfhEhC",
        "colab_type": "text"
      },
      "cell_type": "markdown",
      "source": [
        ""
      ]
    },
    {
      "metadata": {
        "id": "cFO6PXnFu_-5",
        "colab_type": "code",
        "colab": {}
      },
      "cell_type": "code",
      "source": [
        "import torch.optim as optim"
      ],
      "execution_count": 0,
      "outputs": []
    },
    {
      "metadata": {
        "id": "qQhvDhkOva3s",
        "colab_type": "code",
        "colab": {}
      },
      "cell_type": "code",
      "source": [
        "loss_func = nn.CrossEntropyLoss()"
      ],
      "execution_count": 0,
      "outputs": []
    },
    {
      "metadata": {
        "id": "7SgMwTp1v4us",
        "colab_type": "code",
        "colab": {}
      },
      "cell_type": "code",
      "source": [
        "model = Net()"
      ],
      "execution_count": 0,
      "outputs": []
    },
    {
      "metadata": {
        "id": "7odw7Xxdz5Yl",
        "colab_type": "code",
        "colab": {}
      },
      "cell_type": "code",
      "source": [
        "model = model.cuda()"
      ],
      "execution_count": 0,
      "outputs": []
    },
    {
      "metadata": {
        "id": "yTh_Fecnvrnp",
        "colab_type": "code",
        "colab": {}
      },
      "cell_type": "code",
      "source": [
        "optimizer = optim.SGD(model.parameters(),lr=0.001,momentum=0.95)"
      ],
      "execution_count": 0,
      "outputs": []
    },
    {
      "metadata": {
        "id": "6Fx-7O-X1QAt",
        "colab_type": "code",
        "colab": {}
      },
      "cell_type": "code",
      "source": [
        "from torch.autograd import Variable"
      ],
      "execution_count": 0,
      "outputs": []
    },
    {
      "metadata": {
        "id": "WDQenbE7wH69",
        "colab_type": "code",
        "colab": {
          "base_uri": "https://localhost:8080/",
          "height": 1072
        },
        "outputId": "1d8838fb-1cb4-468b-ce1b-74b0f04bb7f1"
      },
      "cell_type": "code",
      "source": [
        "for epoch in range(30):\n",
        "  for i,itr in enumerate(train_loader):\n",
        "    x,y=itr[0],itr[1]\n",
        "    x = x.cuda()\n",
        "    y=y.cuda()\n",
        "    inputs, labels = Variable(x),Variable(y)\n",
        "    optimizer.zero_grad()\n",
        "    answer = model(inputs)\n",
        "    loss = loss_func(answer,labels)\n",
        "    loss.backward()\n",
        "    optimizer.step()\n",
        "    if(i%10000==0):\n",
        "      print(loss)"
      ],
      "execution_count": 27,
      "outputs": [
        {
          "output_type": "stream",
          "text": [
            "tensor(2.3352, device='cuda:0')\n",
            "tensor(1.00000e-02 *\n",
            "       5.3407, device='cuda:0')\n",
            "tensor(0.1281, device='cuda:0')\n",
            "tensor(1.00000e-03 *\n",
            "       3.6758, device='cuda:0')\n",
            "tensor(1.00000e-02 *\n",
            "       1.2342, device='cuda:0')\n",
            "tensor(1.00000e-02 *\n",
            "       5.1373, device='cuda:0')\n",
            "tensor(1.00000e-03 *\n",
            "       7.4642, device='cuda:0')\n",
            "tensor(1.00000e-03 *\n",
            "       6.3887, device='cuda:0')\n",
            "tensor(1.00000e-02 *\n",
            "       1.4899, device='cuda:0')\n",
            "tensor(1.00000e-02 *\n",
            "       1.9671, device='cuda:0')\n",
            "tensor(1.00000e-03 *\n",
            "       2.3348, device='cuda:0')\n",
            "tensor(1.00000e-02 *\n",
            "       2.5379, device='cuda:0')\n",
            "tensor(1.00000e-03 *\n",
            "       3.3854, device='cuda:0')\n",
            "tensor(1.00000e-04 *\n",
            "       5.0876, device='cuda:0')\n",
            "tensor(1.00000e-03 *\n",
            "       1.1758, device='cuda:0')\n",
            "tensor(1.00000e-04 *\n",
            "       3.9086, device='cuda:0')\n",
            "tensor(1.00000e-03 *\n",
            "       1.6778, device='cuda:0')\n",
            "tensor(1.00000e-03 *\n",
            "       4.5584, device='cuda:0')\n",
            "tensor(1.00000e-03 *\n",
            "       4.9912, device='cuda:0')\n",
            "tensor(1.00000e-02 *\n",
            "       1.5235, device='cuda:0')\n",
            "tensor(1.00000e-02 *\n",
            "       2.0005, device='cuda:0')\n",
            "tensor(1.00000e-02 *\n",
            "       1.5281, device='cuda:0')\n",
            "tensor(1.00000e-03 *\n",
            "       3.3318, device='cuda:0')\n",
            "tensor(1.00000e-03 *\n",
            "       2.5812, device='cuda:0')\n",
            "tensor(1.00000e-03 *\n",
            "       7.0303, device='cuda:0')\n",
            "tensor(1.00000e-03 *\n",
            "       4.7476, device='cuda:0')\n",
            "tensor(1.00000e-04 *\n",
            "       8.8198, device='cuda:0')\n",
            "tensor(1.00000e-03 *\n",
            "       2.1947, device='cuda:0')\n",
            "tensor(1.00000e-04 *\n",
            "       2.8048, device='cuda:0')\n",
            "tensor(1.00000e-04 *\n",
            "       1.1182, device='cuda:0')\n"
          ],
          "name": "stdout"
        }
      ]
    },
    {
      "metadata": {
        "id": "7jGb0mjc1t9v",
        "colab_type": "code",
        "colab": {}
      },
      "cell_type": "code",
      "source": [
        "correct=0\n",
        "total=len(test_loader)"
      ],
      "execution_count": 0,
      "outputs": []
    },
    {
      "metadata": {
        "id": "iMnoyk2U-Ag4",
        "colab_type": "code",
        "colab": {
          "base_uri": "https://localhost:8080/",
          "height": 35
        },
        "outputId": "8c7bdd92-541b-4a63-bc7b-7c6ecd1211e7"
      },
      "cell_type": "code",
      "source": [
        "total"
      ],
      "execution_count": 29,
      "outputs": [
        {
          "output_type": "execute_result",
          "data": {
            "text/plain": [
              "10000"
            ]
          },
          "metadata": {
            "tags": []
          },
          "execution_count": 29
        }
      ]
    },
    {
      "metadata": {
        "id": "v4Hzkrbz8dpP",
        "colab_type": "code",
        "colab": {}
      },
      "cell_type": "code",
      "source": [
        "with torch.no_grad():\n",
        "    for image,label in test_loader:\n",
        "        image = image.cuda()\n",
        "        label = label.cuda()\n",
        "        output = model(image)\n",
        "        pred = output.max(1,True)[1]\n",
        "        if(pred==label):\n",
        "          correct+=1"
      ],
      "execution_count": 0,
      "outputs": []
    },
    {
      "metadata": {
        "id": "-Uwj0U979KfI",
        "colab_type": "code",
        "colab": {
          "base_uri": "https://localhost:8080/",
          "height": 35
        },
        "outputId": "1ae6d66f-c26f-4987-9670-c6a7dfa592d9"
      },
      "cell_type": "code",
      "source": [
        "correct\n",
        "\n"
      ],
      "execution_count": 31,
      "outputs": [
        {
          "output_type": "execute_result",
          "data": {
            "text/plain": [
              "9944"
            ]
          },
          "metadata": {
            "tags": []
          },
          "execution_count": 31
        }
      ]
    },
    {
      "metadata": {
        "id": "XWXphovcEN_G",
        "colab_type": "code",
        "colab": {
          "base_uri": "https://localhost:8080/",
          "height": 35
        },
        "outputId": "b7d153af-7879-4ec5-ce3f-c9bf3cf37cb8"
      },
      "cell_type": "code",
      "source": [
        "print('Accuracy:'+str(correct/total))"
      ],
      "execution_count": 32,
      "outputs": [
        {
          "output_type": "stream",
          "text": [
            "Accuracy:0.9944\n"
          ],
          "name": "stdout"
        }
      ]
    },
    {
      "metadata": {
        "id": "bloQtmFtfv-Y",
        "colab_type": "code",
        "colab": {}
      },
      "cell_type": "code",
      "source": [
        "correct=0"
      ],
      "execution_count": 0,
      "outputs": []
    },
    {
      "metadata": {
        "id": "ITHLsnK-zflT",
        "colab_type": "code",
        "colab": {}
      },
      "cell_type": "code",
      "source": [
        ""
      ],
      "execution_count": 0,
      "outputs": []
    }
  ]
}
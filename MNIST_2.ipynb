{
  "nbformat": 4,
  "nbformat_minor": 0,
  "metadata": {
    "colab": {
      "name": "MNIST-2.ipynb",
      "version": "0.3.2",
      "views": {},
      "default_view": {},
      "provenance": []
    },
    "kernelspec": {
      "name": "python3",
      "display_name": "Python 3"
    },
    "accelerator": "GPU"
  },
  "cells": [
    {
      "metadata": {
        "id": "uYHgxPiedr15",
        "colab_type": "code",
        "colab": {
          "autoexec": {
            "startup": false,
            "wait_interval": 0
          },
          "base_uri": "https://localhost:8080/",
          "height": 92
        },
        "outputId": "0eace05f-877a-4bf1-d4ee-61a61d19c880",
        "executionInfo": {
          "status": "ok",
          "timestamp": 1533053025025,
          "user_tz": -330,
          "elapsed": 47292,
          "user": {
            "displayName": "Sasi Kiran",
            "photoUrl": "//lh5.googleusercontent.com/-RktWNl2yEQ0/AAAAAAAAAAI/AAAAAAAABXI/7N2Jbl3ii0U/s50-c-k-no/photo.jpg",
            "userId": "111192395869899545141"
          }
        }
      },
      "cell_type": "code",
      "source": [
        "from os import path\n",
        "from wheel.pep425tags import get_abbr_impl, get_impl_ver, get_abi_tag\n",
        "platform = '{}{}-{}'.format(get_abbr_impl(), get_impl_ver(), get_abi_tag())\n",
        "\n",
        "accelerator = 'cu80' if path.exists('/opt/bin/nvidia-smi') else 'cpu'\n",
        "\n",
        "!pip install -q http://download.pytorch.org/whl/{accelerator}/torch-0.4.0-{platform}-linux_x86_64.whl torchvision\n",
        "import torch\n",
        "print(torch.__version__)\n",
        "print(torch.cuda.is_available())"
      ],
      "execution_count": 1,
      "outputs": [
        {
          "output_type": "stream",
          "text": [
            "tcmalloc: large alloc 1073750016 bytes == 0x5cad6000 @  0x7f3ef23871c4 0x46d6a4 0x5fcbcc 0x4c494d 0x54f3c4 0x553aaf 0x54e4c8 0x54f4f6 0x553aaf 0x54efc1 0x54f24d 0x553aaf 0x54efc1 0x54f24d 0x553aaf 0x54efc1 0x54f24d 0x551ee0 0x54e4c8 0x54f4f6 0x553aaf 0x54efc1 0x54f24d 0x551ee0 0x54efc1 0x54f24d 0x551ee0 0x54e4c8 0x54f4f6 0x553aaf 0x54e4c8\r\n",
            "0.4.0\n",
            "True\n"
          ],
          "name": "stdout"
        }
      ]
    },
    {
      "metadata": {
        "id": "6WXSslxueGlC",
        "colab_type": "code",
        "colab": {
          "autoexec": {
            "startup": false,
            "wait_interval": 0
          },
          "base_uri": "https://localhost:8080/",
          "height": 435
        },
        "outputId": "62fb534b-0bbf-4728-d70a-ec5c9066b854",
        "executionInfo": {
          "status": "ok",
          "timestamp": 1533053039129,
          "user_tz": -330,
          "elapsed": 14061,
          "user": {
            "displayName": "Sasi Kiran",
            "photoUrl": "//lh5.googleusercontent.com/-RktWNl2yEQ0/AAAAAAAAAAI/AAAAAAAABXI/7N2Jbl3ii0U/s50-c-k-no/photo.jpg",
            "userId": "111192395869899545141"
          }
        }
      },
      "cell_type": "code",
      "source": [
        "!pip3 install Pillow==4.0.0\n",
        "!pip3 install PIL\n",
        "!pip3 install image"
      ],
      "execution_count": 2,
      "outputs": [
        {
          "output_type": "stream",
          "text": [
            "Collecting Pillow==4.0.0\n",
            "\u001b[?25l  Downloading https://files.pythonhosted.org/packages/37/e8/b3fbf87b0188d22246678f8cd61e23e31caa1769ebc06f1664e2e5fe8a17/Pillow-4.0.0-cp36-cp36m-manylinux1_x86_64.whl (5.6MB)\n",
            "\u001b[K    100% |████████████████████████████████| 5.6MB 5.4MB/s \n",
            "\u001b[?25hRequirement already satisfied: olefile in /usr/local/lib/python3.6/dist-packages (from Pillow==4.0.0) (0.45.1)\n",
            "\u001b[31mtorchvision 0.2.1 has requirement pillow>=4.1.1, but you'll have pillow 4.0.0 which is incompatible.\u001b[0m\n",
            "Installing collected packages: Pillow\n",
            "  Found existing installation: Pillow 5.2.0\n",
            "    Uninstalling Pillow-5.2.0:\n",
            "      Successfully uninstalled Pillow-5.2.0\n",
            "Successfully installed Pillow-4.0.0\n",
            "Collecting PIL\n",
            "\u001b[31m  Could not find a version that satisfies the requirement PIL (from versions: )\u001b[0m\n",
            "\u001b[31mNo matching distribution found for PIL\u001b[0m\n",
            "Collecting image\n",
            "  Downloading https://files.pythonhosted.org/packages/a7/5b/c0358fe83daab29070e38a945809585f1fd6353e65b687f602688f32c3c2/image-1.5.24-py2.py3-none-any.whl\n",
            "Collecting django (from image)\n",
            "\u001b[?25l  Downloading https://files.pythonhosted.org/packages/ab/15/cfde97943f0db45e4f999c60b696fbb4df59e82bbccc686770f4e44c9094/Django-2.0.7-py3-none-any.whl (7.1MB)\n",
            "\u001b[K    100% |████████████████████████████████| 7.1MB 4.0MB/s \n",
            "\u001b[?25hRequirement already satisfied: pillow in /usr/local/lib/python3.6/dist-packages (from image) (4.0.0)\n",
            "Requirement already satisfied: pytz in /usr/local/lib/python3.6/dist-packages (from django->image) (2018.5)\n",
            "Requirement already satisfied: olefile in /usr/local/lib/python3.6/dist-packages (from pillow->image) (0.45.1)\n",
            "Installing collected packages: django, image\n",
            "Successfully installed django-2.0.7 image-1.5.24\n"
          ],
          "name": "stdout"
        }
      ]
    },
    {
      "metadata": {
        "id": "zfvjddlFeIxv",
        "colab_type": "code",
        "colab": {
          "autoexec": {
            "startup": false,
            "wait_interval": 0
          }
        }
      },
      "cell_type": "code",
      "source": [
        "import torch\n",
        "import torchvision\n",
        "import torchvision.transforms as transforms\n",
        "import torchvision.datasets\n",
        "import torch.nn as nn\n",
        "import torch.nn.functional as F"
      ],
      "execution_count": 0,
      "outputs": []
    },
    {
      "metadata": {
        "id": "_5BD05hzyy5P",
        "colab_type": "code",
        "colab": {
          "autoexec": {
            "startup": false,
            "wait_interval": 0
          }
        }
      },
      "cell_type": "code",
      "source": [
        "trans = transforms.Compose([transforms.ToTensor()])"
      ],
      "execution_count": 0,
      "outputs": []
    },
    {
      "metadata": {
        "id": "YoBaCWsrel3U",
        "colab_type": "code",
        "colab": {
          "autoexec": {
            "startup": false,
            "wait_interval": 0
          },
          "base_uri": "https://localhost:8080/",
          "height": 126
        },
        "outputId": "2e352ff4-b5c0-4800-a087-3b68946d0d9a",
        "executionInfo": {
          "status": "ok",
          "timestamp": 1533053044618,
          "user_tz": -330,
          "elapsed": 2060,
          "user": {
            "displayName": "Sasi Kiran",
            "photoUrl": "//lh5.googleusercontent.com/-RktWNl2yEQ0/AAAAAAAAAAI/AAAAAAAABXI/7N2Jbl3ii0U/s50-c-k-no/photo.jpg",
            "userId": "111192395869899545141"
          }
        }
      },
      "cell_type": "code",
      "source": [
        "trainset = torchvision.datasets.MNIST(root='./data',train=True,download=True,transform=trans)"
      ],
      "execution_count": 5,
      "outputs": [
        {
          "output_type": "stream",
          "text": [
            "Downloading http://yann.lecun.com/exdb/mnist/train-images-idx3-ubyte.gz\n",
            "Downloading http://yann.lecun.com/exdb/mnist/train-labels-idx1-ubyte.gz\n",
            "Downloading http://yann.lecun.com/exdb/mnist/t10k-images-idx3-ubyte.gz\n",
            "Downloading http://yann.lecun.com/exdb/mnist/t10k-labels-idx1-ubyte.gz\n",
            "Processing...\n",
            "Done!\n"
          ],
          "name": "stdout"
        }
      ]
    },
    {
      "metadata": {
        "id": "fZFRfsdMe7aR",
        "colab_type": "code",
        "colab": {
          "autoexec": {
            "startup": false,
            "wait_interval": 0
          }
        }
      },
      "cell_type": "code",
      "source": [
        "testset = torchvision.datasets.MNIST(root='./data',train=False,download=True,transform=trans)"
      ],
      "execution_count": 0,
      "outputs": []
    },
    {
      "metadata": {
        "id": "4MJAVW5thgA7",
        "colab_type": "code",
        "colab": {
          "autoexec": {
            "startup": false,
            "wait_interval": 0
          }
        }
      },
      "cell_type": "code",
      "source": [
        "train_loader = torch.utils.data.DataLoader(\n",
        "                 dataset=trainset,\n",
        "                 shuffle=True)"
      ],
      "execution_count": 0,
      "outputs": []
    },
    {
      "metadata": {
        "id": "zSM---24h3jy",
        "colab_type": "code",
        "colab": {
          "autoexec": {
            "startup": false,
            "wait_interval": 0
          }
        }
      },
      "cell_type": "code",
      "source": [
        "test_loader = torch.utils.data.DataLoader(dataset=testset,shuffle=True)"
      ],
      "execution_count": 0,
      "outputs": []
    },
    {
      "metadata": {
        "id": "yi6o55Vkh840",
        "colab_type": "code",
        "colab": {
          "autoexec": {
            "startup": false,
            "wait_interval": 0
          }
        }
      },
      "cell_type": "code",
      "source": [
        "class Net(nn.Module):\n",
        "    def __init__(self):\n",
        "        super(Net, self).__init__()\n",
        "        self.conv1 = nn.Conv2d(1, 32,5)\n",
        "        self.pool = nn.MaxPool2d(2, 2)\n",
        "        self.conv2 = nn.Conv2d(32, 64, 5)\n",
        "        self.conv3 = nn.Conv2d(64,64,3,padding=1)\n",
        "        self.conv4 = nn.Conv2d(64,64,3,padding=1)\n",
        "        self.fc1 = nn.Linear(1024, 10)\n",
        "\n",
        "    def forward(self, x):\n",
        "        x = self.pool(F.relu(self.conv1(x)))\n",
        "        x = F.dropout(x)\n",
        "        x = self.pool(F.relu(self.conv2(x)))\n",
        "        residual = x\n",
        "        x = (F.relu(self.conv3(x)))\n",
        "        x = (F.relu(self.conv4(x)+residual))\n",
        "        x = x.view(-1, 1024)\n",
        "        x = F.relu(self.fc1(x))\n",
        "        return x"
      ],
      "execution_count": 0,
      "outputs": []
    },
    {
      "metadata": {
        "id": "cFO6PXnFu_-5",
        "colab_type": "code",
        "colab": {
          "autoexec": {
            "startup": false,
            "wait_interval": 0
          }
        }
      },
      "cell_type": "code",
      "source": [
        "import torch.optim as optim"
      ],
      "execution_count": 0,
      "outputs": []
    },
    {
      "metadata": {
        "id": "qQhvDhkOva3s",
        "colab_type": "code",
        "colab": {
          "autoexec": {
            "startup": false,
            "wait_interval": 0
          }
        }
      },
      "cell_type": "code",
      "source": [
        "loss_func = nn.CrossEntropyLoss()"
      ],
      "execution_count": 0,
      "outputs": []
    },
    {
      "metadata": {
        "id": "7SgMwTp1v4us",
        "colab_type": "code",
        "colab": {
          "autoexec": {
            "startup": false,
            "wait_interval": 0
          }
        }
      },
      "cell_type": "code",
      "source": [
        "model = Net()"
      ],
      "execution_count": 0,
      "outputs": []
    },
    {
      "metadata": {
        "id": "7odw7Xxdz5Yl",
        "colab_type": "code",
        "colab": {
          "autoexec": {
            "startup": false,
            "wait_interval": 0
          }
        }
      },
      "cell_type": "code",
      "source": [
        "model = model.cuda()"
      ],
      "execution_count": 0,
      "outputs": []
    },
    {
      "metadata": {
        "id": "yTh_Fecnvrnp",
        "colab_type": "code",
        "colab": {
          "autoexec": {
            "startup": false,
            "wait_interval": 0
          }
        }
      },
      "cell_type": "code",
      "source": [
        "optimizer = optim.SGD(model.parameters(),lr=0.001,momentum=0.95)"
      ],
      "execution_count": 0,
      "outputs": []
    },
    {
      "metadata": {
        "id": "6Fx-7O-X1QAt",
        "colab_type": "code",
        "colab": {
          "autoexec": {
            "startup": false,
            "wait_interval": 0
          }
        }
      },
      "cell_type": "code",
      "source": [
        "from torch.autograd import Variable"
      ],
      "execution_count": 0,
      "outputs": []
    },
    {
      "metadata": {
        "id": "WDQenbE7wH69",
        "colab_type": "code",
        "colab": {
          "autoexec": {
            "startup": false,
            "wait_interval": 0
          },
          "base_uri": "https://localhost:8080/",
          "height": 726
        },
        "outputId": "81f76127-9dfb-480d-b6b9-7135db05274d",
        "executionInfo": {
          "status": "ok",
          "timestamp": 1533054179375,
          "user_tz": -330,
          "elapsed": 1110832,
          "user": {
            "displayName": "Sasi Kiran",
            "photoUrl": "//lh5.googleusercontent.com/-RktWNl2yEQ0/AAAAAAAAAAI/AAAAAAAABXI/7N2Jbl3ii0U/s50-c-k-no/photo.jpg",
            "userId": "111192395869899545141"
          }
        }
      },
      "cell_type": "code",
      "source": [
        "for epoch in range(4):\n",
        "  for i,(x,y) in enumerate(train_loader):\n",
        "    \n",
        "    x = x.cuda()\n",
        "    y=y.cuda()\n",
        "    inputs, labels = Variable(x),Variable(y)\n",
        "    optimizer.zero_grad()\n",
        "    answer = model(inputs)\n",
        "    loss = loss_func(answer,labels)\n",
        "    loss.backward()\n",
        "    optimizer.step()\n",
        "    if(i%10000==0):\n",
        "      print(loss)"
      ],
      "execution_count": 16,
      "outputs": [
        {
          "output_type": "stream",
          "text": [
            "tensor(2.3351, device='cuda:0')\n",
            "tensor(2.3026, device='cuda:0')\n",
            "tensor(2.3026, device='cuda:0')\n",
            "tensor(2.3026, device='cuda:0')\n",
            "tensor(2.3026, device='cuda:0')\n",
            "tensor(1.00000e-04 *\n",
            "       1.0586, device='cuda:0')\n",
            "tensor(1.00000e-03 *\n",
            "       3.3908, device='cuda:0')\n",
            "tensor(0.1099, device='cuda:0')\n",
            "tensor(1.00000e-04 *\n",
            "       1.8787, device='cuda:0')\n",
            "tensor(1.3855, device='cuda:0')\n",
            "tensor(1.00000e-05 *\n",
            "       2.5749, device='cuda:0')\n",
            "tensor(0., device='cuda:0')\n",
            "tensor(1.00000e-02 *\n",
            "       1.6644, device='cuda:0')\n",
            "tensor(1.00000e-04 *\n",
            "       3.8910, device='cuda:0')\n",
            "tensor(1.00000e-04 *\n",
            "       3.4904, device='cuda:0')\n",
            "tensor(1.00000e-02 *\n",
            "       1.0379, device='cuda:0')\n",
            "tensor(1.00000e-04 *\n",
            "       2.2602, device='cuda:0')\n",
            "tensor(1.00000e-05 *\n",
            "       3.0518, device='cuda:0')\n",
            "tensor(0., device='cuda:0')\n",
            "tensor(1.00000e-06 *\n",
            "       1.9073, device='cuda:0')\n",
            "tensor(1.00000e-06 *\n",
            "       7.6294, device='cuda:0')\n",
            "tensor(1.00000e-04 *\n",
            "       9.6321, device='cuda:0')\n",
            "tensor(1.00000e-06 *\n",
            "       3.8147, device='cuda:0')\n",
            "tensor(1.00000e-06 *\n",
            "       7.6294, device='cuda:0')\n"
          ],
          "name": "stdout"
        }
      ]
    },
    {
      "metadata": {
        "id": "7jGb0mjc1t9v",
        "colab_type": "code",
        "colab": {
          "autoexec": {
            "startup": false,
            "wait_interval": 0
          }
        }
      },
      "cell_type": "code",
      "source": [
        "correct=0\n",
        "total=len(test_loader)"
      ],
      "execution_count": 0,
      "outputs": []
    },
    {
      "metadata": {
        "id": "wM4ePoWyx6IO",
        "colab_type": "code",
        "colab": {
          "autoexec": {
            "startup": false,
            "wait_interval": 0
          },
          "base_uri": "https://localhost:8080/",
          "height": 35
        },
        "outputId": "c5bbcd71-4b45-453c-d6ff-0637d75d44ea",
        "executionInfo": {
          "status": "ok",
          "timestamp": 1533054182543,
          "user_tz": -330,
          "elapsed": 969,
          "user": {
            "displayName": "Sasi Kiran",
            "photoUrl": "//lh5.googleusercontent.com/-RktWNl2yEQ0/AAAAAAAAAAI/AAAAAAAABXI/7N2Jbl3ii0U/s50-c-k-no/photo.jpg",
            "userId": "111192395869899545141"
          }
        }
      },
      "cell_type": "code",
      "source": [
        "total"
      ],
      "execution_count": 18,
      "outputs": [
        {
          "output_type": "execute_result",
          "data": {
            "text/plain": [
              "10000"
            ]
          },
          "metadata": {
            "tags": []
          },
          "execution_count": 18
        }
      ]
    },
    {
      "metadata": {
        "id": "v4Hzkrbz8dpP",
        "colab_type": "code",
        "colab": {
          "autoexec": {
            "startup": false,
            "wait_interval": 0
          }
        }
      },
      "cell_type": "code",
      "source": [
        "with torch.no_grad():\n",
        "    for image,label in test_loader:\n",
        "        image = image.cuda()\n",
        "        label = label.cuda()\n",
        "        output = model(image)\n",
        "        pred = output.max(1,True)[1]\n",
        "        if(pred==label):\n",
        "          correct+=1"
      ],
      "execution_count": 0,
      "outputs": []
    },
    {
      "metadata": {
        "id": "-Uwj0U979KfI",
        "colab_type": "code",
        "colab": {
          "autoexec": {
            "startup": false,
            "wait_interval": 0
          },
          "base_uri": "https://localhost:8080/",
          "height": 35
        },
        "outputId": "a0c0d05d-9160-488f-9d2e-932e8510343d",
        "executionInfo": {
          "status": "ok",
          "timestamp": 1533054202574,
          "user_tz": -330,
          "elapsed": 921,
          "user": {
            "displayName": "Sasi Kiran",
            "photoUrl": "//lh5.googleusercontent.com/-RktWNl2yEQ0/AAAAAAAAAAI/AAAAAAAABXI/7N2Jbl3ii0U/s50-c-k-no/photo.jpg",
            "userId": "111192395869899545141"
          }
        }
      },
      "cell_type": "code",
      "source": [
        "correct\n",
        "\n"
      ],
      "execution_count": 20,
      "outputs": [
        {
          "output_type": "execute_result",
          "data": {
            "text/plain": [
              "9903"
            ]
          },
          "metadata": {
            "tags": []
          },
          "execution_count": 20
        }
      ]
    },
    {
      "metadata": {
        "id": "XWXphovcEN_G",
        "colab_type": "code",
        "colab": {
          "autoexec": {
            "startup": false,
            "wait_interval": 0
          },
          "base_uri": "https://localhost:8080/",
          "height": 35
        },
        "outputId": "5608b3a9-6a51-425c-a1d1-c269af7ad720",
        "executionInfo": {
          "status": "ok",
          "timestamp": 1533054203864,
          "user_tz": -330,
          "elapsed": 1095,
          "user": {
            "displayName": "Sasi Kiran",
            "photoUrl": "//lh5.googleusercontent.com/-RktWNl2yEQ0/AAAAAAAAAAI/AAAAAAAABXI/7N2Jbl3ii0U/s50-c-k-no/photo.jpg",
            "userId": "111192395869899545141"
          }
        }
      },
      "cell_type": "code",
      "source": [
        "print('Accuracy:'+str(correct/total))"
      ],
      "execution_count": 21,
      "outputs": [
        {
          "output_type": "stream",
          "text": [
            "Accuracy:0.9903\n"
          ],
          "name": "stdout"
        }
      ]
    },
    {
      "metadata": {
        "id": "bloQtmFtfv-Y",
        "colab_type": "code",
        "colab": {
          "autoexec": {
            "startup": false,
            "wait_interval": 0
          }
        }
      },
      "cell_type": "code",
      "source": [
        "correct=0"
      ],
      "execution_count": 0,
      "outputs": []
    },
    {
      "metadata": {
        "id": "BO1LF1Chfxl0",
        "colab_type": "code",
        "colab": {
          "autoexec": {
            "startup": false,
            "wait_interval": 0
          }
        }
      },
      "cell_type": "code",
      "source": [
        "with torch.no_grad():\n",
        "    for image,label in train_loader:\n",
        "        image = image.cuda()\n",
        "        label = label.cuda()\n",
        "        output = model(image)\n",
        "        pred = output.max(1,True)[1]\n",
        "        if(pred==label):\n",
        "          correct+=1"
      ],
      "execution_count": 0,
      "outputs": []
    },
    {
      "metadata": {
        "id": "jW3a3hKqfqRC",
        "colab_type": "code",
        "colab": {
          "autoexec": {
            "startup": false,
            "wait_interval": 0
          }
        }
      },
      "cell_type": "code",
      "source": [
        "total = len(train_loader)"
      ],
      "execution_count": 0,
      "outputs": []
    },
    {
      "metadata": {
        "id": "wm6R79hmfyt6",
        "colab_type": "code",
        "colab": {
          "autoexec": {
            "startup": false,
            "wait_interval": 0
          },
          "base_uri": "https://localhost:8080/",
          "height": 35
        },
        "outputId": "4a0f439f-f68f-4ac3-b4da-98a7b957970b",
        "executionInfo": {
          "status": "ok",
          "timestamp": 1533054308585,
          "user_tz": -330,
          "elapsed": 935,
          "user": {
            "displayName": "Sasi Kiran",
            "photoUrl": "//lh5.googleusercontent.com/-RktWNl2yEQ0/AAAAAAAAAAI/AAAAAAAABXI/7N2Jbl3ii0U/s50-c-k-no/photo.jpg",
            "userId": "111192395869899545141"
          }
        }
      },
      "cell_type": "code",
      "source": [
        "print('Training set accuracy: '+str(correct/total))"
      ],
      "execution_count": 25,
      "outputs": [
        {
          "output_type": "stream",
          "text": [
            "Training set accuracy: 0.9949666666666667\n"
          ],
          "name": "stdout"
        }
      ]
    },
    {
      "metadata": {
        "id": "ITHLsnK-zflT",
        "colab_type": "code",
        "colab": {
          "autoexec": {
            "startup": false,
            "wait_interval": 0
          }
        }
      },
      "cell_type": "code",
      "source": [
        ""
      ],
      "execution_count": 0,
      "outputs": []
    }
  ]
}
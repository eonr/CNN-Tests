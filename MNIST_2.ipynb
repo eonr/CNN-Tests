{
  "nbformat": 4,
  "nbformat_minor": 0,
  "metadata": {
    "colab": {
      "name": "MNIST-1.ipynb",
      "version": "0.3.2",
      "views": {},
      "default_view": {},
      "provenance": []
    },
    "kernelspec": {
      "name": "python3",
      "display_name": "Python 3"
    },
    "accelerator": "GPU"
  },
  "cells": [
    {
      "metadata": {
        "id": "uYHgxPiedr15",
        "colab_type": "code",
        "colab": {
          "autoexec": {
            "startup": false,
            "wait_interval": 0
          },
          "base_uri": "https://localhost:8080/",
          "height": 54
        },
        "outputId": "4aebca92-5983-462f-c54c-49791dd6c69a",
        "executionInfo": {
          "status": "ok",
          "timestamp": 1532966125688,
          "user_tz": -330,
          "elapsed": 4428,
          "user": {
            "displayName": "Sasi Kiran",
            "photoUrl": "//lh5.googleusercontent.com/-RktWNl2yEQ0/AAAAAAAAAAI/AAAAAAAABXI/7N2Jbl3ii0U/s50-c-k-no/photo.jpg",
            "userId": "111192395869899545141"
          }
        }
      },
      "cell_type": "code",
      "source": [
        "from os import path\n",
        "from wheel.pep425tags import get_abbr_impl, get_impl_ver, get_abi_tag\n",
        "platform = '{}{}-{}'.format(get_abbr_impl(), get_impl_ver(), get_abi_tag())\n",
        "\n",
        "accelerator = 'cu80' if path.exists('/opt/bin/nvidia-smi') else 'cpu'\n",
        "\n",
        "!pip install -q http://download.pytorch.org/whl/{accelerator}/torch-0.4.0-{platform}-linux_x86_64.whl torchvision\n",
        "import torch\n",
        "print(torch.__version__)\n",
        "print(torch.cuda.is_available())"
      ],
      "execution_count": 59,
      "outputs": [
        {
          "output_type": "stream",
          "text": [
            "0.4.0\n",
            "True\n"
          ],
          "name": "stdout"
        }
      ]
    },
    {
      "metadata": {
        "id": "6WXSslxueGlC",
        "colab_type": "code",
        "colab": {
          "autoexec": {
            "startup": false,
            "wait_interval": 0
          },
          "base_uri": "https://localhost:8080/",
          "height": 326
        },
        "outputId": "9ee8f015-5fde-4c6b-c70d-75d411e313bf",
        "executionInfo": {
          "status": "ok",
          "timestamp": 1532966135030,
          "user_tz": -330,
          "elapsed": 9306,
          "user": {
            "displayName": "Sasi Kiran",
            "photoUrl": "//lh5.googleusercontent.com/-RktWNl2yEQ0/AAAAAAAAAAI/AAAAAAAABXI/7N2Jbl3ii0U/s50-c-k-no/photo.jpg",
            "userId": "111192395869899545141"
          }
        }
      },
      "cell_type": "code",
      "source": [
        "!pip3 install Pillow==4.0.0\n",
        "!pip3 install PIL\n",
        "!pip3 install image"
      ],
      "execution_count": 60,
      "outputs": [
        {
          "output_type": "stream",
          "text": [
            "Collecting Pillow==4.0.0\n",
            "  Using cached https://files.pythonhosted.org/packages/37/e8/b3fbf87b0188d22246678f8cd61e23e31caa1769ebc06f1664e2e5fe8a17/Pillow-4.0.0-cp36-cp36m-manylinux1_x86_64.whl\n",
            "Requirement already satisfied: olefile in /usr/local/lib/python3.6/dist-packages (from Pillow==4.0.0) (0.45.1)\n",
            "\u001b[31mtorchvision 0.2.1 has requirement pillow>=4.1.1, but you'll have pillow 4.0.0 which is incompatible.\u001b[0m\n",
            "Installing collected packages: Pillow\n",
            "  Found existing installation: Pillow 5.2.0\n",
            "    Uninstalling Pillow-5.2.0:\n",
            "      Successfully uninstalled Pillow-5.2.0\n",
            "Successfully installed Pillow-4.0.0\n",
            "Collecting PIL\n",
            "\u001b[31m  Could not find a version that satisfies the requirement PIL (from versions: )\u001b[0m\n",
            "\u001b[31mNo matching distribution found for PIL\u001b[0m\n",
            "Requirement already satisfied: image in /usr/local/lib/python3.6/dist-packages (1.5.24)\n",
            "Requirement already satisfied: django in /usr/local/lib/python3.6/dist-packages (from image) (2.0.7)\n",
            "Requirement already satisfied: pillow in /usr/local/lib/python3.6/dist-packages (from image) (4.0.0)\n",
            "Requirement already satisfied: pytz in /usr/local/lib/python3.6/dist-packages (from django->image) (2018.5)\n",
            "Requirement already satisfied: olefile in /usr/local/lib/python3.6/dist-packages (from pillow->image) (0.45.1)\n"
          ],
          "name": "stdout"
        }
      ]
    },
    {
      "metadata": {
        "id": "zfvjddlFeIxv",
        "colab_type": "code",
        "colab": {
          "autoexec": {
            "startup": false,
            "wait_interval": 0
          }
        }
      },
      "cell_type": "code",
      "source": [
        "import torch\n",
        "import torchvision\n",
        "import torchvision.transforms as transforms\n",
        "import torchvision.datasets\n",
        "import torch.nn as nn\n",
        "import torch.nn.functional as F"
      ],
      "execution_count": 0,
      "outputs": []
    },
    {
      "metadata": {
        "id": "_5BD05hzyy5P",
        "colab_type": "code",
        "colab": {
          "autoexec": {
            "startup": false,
            "wait_interval": 0
          }
        }
      },
      "cell_type": "code",
      "source": [
        "trans = transforms.Compose([transforms.ToTensor()])"
      ],
      "execution_count": 0,
      "outputs": []
    },
    {
      "metadata": {
        "id": "YoBaCWsrel3U",
        "colab_type": "code",
        "colab": {
          "autoexec": {
            "startup": false,
            "wait_interval": 0
          }
        }
      },
      "cell_type": "code",
      "source": [
        "trainset = torchvision.datasets.MNIST(root='./data',train=True,download=True,transform=trans)"
      ],
      "execution_count": 0,
      "outputs": []
    },
    {
      "metadata": {
        "id": "fZFRfsdMe7aR",
        "colab_type": "code",
        "colab": {
          "autoexec": {
            "startup": false,
            "wait_interval": 0
          }
        }
      },
      "cell_type": "code",
      "source": [
        "testset = torchvision.datasets.MNIST(root='./data',train=False,download=True,transform=trans)"
      ],
      "execution_count": 0,
      "outputs": []
    },
    {
      "metadata": {
        "id": "4MJAVW5thgA7",
        "colab_type": "code",
        "colab": {
          "autoexec": {
            "startup": false,
            "wait_interval": 0
          }
        }
      },
      "cell_type": "code",
      "source": [
        "train_loader = torch.utils.data.DataLoader(\n",
        "                 dataset=trainset,\n",
        "                 shuffle=True)"
      ],
      "execution_count": 0,
      "outputs": []
    },
    {
      "metadata": {
        "id": "zSM---24h3jy",
        "colab_type": "code",
        "colab": {
          "autoexec": {
            "startup": false,
            "wait_interval": 0
          }
        }
      },
      "cell_type": "code",
      "source": [
        "test_loader = torch.utils.data.DataLoader(dataset=testset,shuffle=True)"
      ],
      "execution_count": 0,
      "outputs": []
    },
    {
      "metadata": {
        "id": "yi6o55Vkh840",
        "colab_type": "code",
        "colab": {
          "autoexec": {
            "startup": false,
            "wait_interval": 0
          }
        }
      },
      "cell_type": "code",
      "source": [
        "class Net(nn.Module):\n",
        "    def __init__(self):\n",
        "        super(Net, self).__init__()\n",
        "        self.conv1 = nn.Conv2d(1, 32,5)\n",
        "        self.pool = nn.MaxPool2d(2, 2)\n",
        "        self.conv2 = nn.Conv2d(32, 64, 5)\n",
        "        self.conv3 = nn.Conv2d(64,64,3,padding=1)\n",
        "        self.conv4 = nn.Conv2d(64,64,3,padding=1)\n",
        "        self.fc1 = nn.Linear(1024, 10)\n",
        "\n",
        "    def forward(self, x):\n",
        "        x = self.pool(F.relu(self.conv1(x)))\n",
        "        x = F.dropout(x)\n",
        "        x = self.pool(F.relu(self.conv2(x)))\n",
        "        residual = x\n",
        "        x = (F.relu(self.conv3(x)))\n",
        "        x = (F.relu(self.conv4(x)+residual))\n",
        "        x = x.view(-1, 1024)\n",
        "        x = F.relu(self.fc1(x))\n",
        "        return x"
      ],
      "execution_count": 0,
      "outputs": []
    },
    {
      "metadata": {
        "id": "cFO6PXnFu_-5",
        "colab_type": "code",
        "colab": {
          "autoexec": {
            "startup": false,
            "wait_interval": 0
          }
        }
      },
      "cell_type": "code",
      "source": [
        "import torch.optim as optim"
      ],
      "execution_count": 0,
      "outputs": []
    },
    {
      "metadata": {
        "id": "qQhvDhkOva3s",
        "colab_type": "code",
        "colab": {
          "autoexec": {
            "startup": false,
            "wait_interval": 0
          }
        }
      },
      "cell_type": "code",
      "source": [
        "loss_func = nn.CrossEntropyLoss()"
      ],
      "execution_count": 0,
      "outputs": []
    },
    {
      "metadata": {
        "id": "7SgMwTp1v4us",
        "colab_type": "code",
        "colab": {
          "autoexec": {
            "startup": false,
            "wait_interval": 0
          }
        }
      },
      "cell_type": "code",
      "source": [
        "model = Net()"
      ],
      "execution_count": 0,
      "outputs": []
    },
    {
      "metadata": {
        "id": "7odw7Xxdz5Yl",
        "colab_type": "code",
        "colab": {
          "autoexec": {
            "startup": false,
            "wait_interval": 0
          }
        }
      },
      "cell_type": "code",
      "source": [
        "model = model.cuda()"
      ],
      "execution_count": 0,
      "outputs": []
    },
    {
      "metadata": {
        "id": "yTh_Fecnvrnp",
        "colab_type": "code",
        "colab": {
          "autoexec": {
            "startup": false,
            "wait_interval": 0
          }
        }
      },
      "cell_type": "code",
      "source": [
        "optimizer = optim.SGD(model.parameters(),lr=0.001,momentum=0.95)"
      ],
      "execution_count": 0,
      "outputs": []
    },
    {
      "metadata": {
        "id": "6Fx-7O-X1QAt",
        "colab_type": "code",
        "colab": {
          "autoexec": {
            "startup": false,
            "wait_interval": 0
          }
        }
      },
      "cell_type": "code",
      "source": [
        "from torch.autograd import Variable"
      ],
      "execution_count": 0,
      "outputs": []
    },
    {
      "metadata": {
        "id": "WDQenbE7wH69",
        "colab_type": "code",
        "colab": {
          "autoexec": {
            "startup": false,
            "wait_interval": 0
          },
          "base_uri": "https://localhost:8080/",
          "height": 363
        },
        "outputId": "9ae8ecef-127b-4d71-b8c9-d0eeeaeef980",
        "executionInfo": {
          "status": "ok",
          "timestamp": 1532967154889,
          "user_tz": -330,
          "elapsed": 671898,
          "user": {
            "displayName": "Sasi Kiran",
            "photoUrl": "//lh5.googleusercontent.com/-RktWNl2yEQ0/AAAAAAAAAAI/AAAAAAAABXI/7N2Jbl3ii0U/s50-c-k-no/photo.jpg",
            "userId": "111192395869899545141"
          }
        }
      },
      "cell_type": "code",
      "source": [
        "for epoch in range(2):\n",
        "  for i,(x,y) in enumerate(train_loader):\n",
        "    \n",
        "    x = x.cuda()\n",
        "    y=y.cuda()\n",
        "    inputs, labels = Variable(x),Variable(y)\n",
        "    optimizer.zero_grad()\n",
        "    answer = model(inputs)\n",
        "    loss = loss_func(answer,labels)\n",
        "    loss.backward()\n",
        "    optimizer.step()\n",
        "    if(i%10000==0):\n",
        "      print(loss)"
      ],
      "execution_count": 78,
      "outputs": [
        {
          "output_type": "stream",
          "text": [
            "tensor(2.3824, device='cuda:0')\n",
            "tensor(2.3026, device='cuda:0')\n",
            "tensor(1.00000e-02 *\n",
            "       1.5182, device='cuda:0')\n",
            "tensor(1.00000e-02 *\n",
            "       2.0116, device='cuda:0')\n",
            "tensor(1.00000e-03 *\n",
            "       9.4934, device='cuda:0')\n",
            "tensor(0., device='cuda:0')\n",
            "tensor(1.00000e-06 *\n",
            "       3.8147, device='cuda:0')\n",
            "tensor(0., device='cuda:0')\n",
            "tensor(1.00000e-04 *\n",
            "       2.0409, device='cuda:0')\n",
            "tensor(1.00000e-06 *\n",
            "       1.9073, device='cuda:0')\n",
            "tensor(0.2360, device='cuda:0')\n",
            "tensor(1.00000e-06 *\n",
            "       1.9073, device='cuda:0')\n"
          ],
          "name": "stdout"
        }
      ]
    },
    {
      "metadata": {
        "id": "7jGb0mjc1t9v",
        "colab_type": "code",
        "colab": {
          "autoexec": {
            "startup": false,
            "wait_interval": 0
          }
        }
      },
      "cell_type": "code",
      "source": [
        "correct=0\n",
        "total=len(test_loader)"
      ],
      "execution_count": 0,
      "outputs": []
    },
    {
      "metadata": {
        "id": "wM4ePoWyx6IO",
        "colab_type": "code",
        "colab": {
          "autoexec": {
            "startup": false,
            "wait_interval": 0
          },
          "base_uri": "https://localhost:8080/",
          "height": 35
        },
        "outputId": "5eb7a4b4-7fee-4704-c760-f174ea786e59",
        "executionInfo": {
          "status": "ok",
          "timestamp": 1532967162763,
          "user_tz": -330,
          "elapsed": 993,
          "user": {
            "displayName": "Sasi Kiran",
            "photoUrl": "//lh5.googleusercontent.com/-RktWNl2yEQ0/AAAAAAAAAAI/AAAAAAAABXI/7N2Jbl3ii0U/s50-c-k-no/photo.jpg",
            "userId": "111192395869899545141"
          }
        }
      },
      "cell_type": "code",
      "source": [
        "total"
      ],
      "execution_count": 80,
      "outputs": [
        {
          "output_type": "execute_result",
          "data": {
            "text/plain": [
              "10000"
            ]
          },
          "metadata": {
            "tags": []
          },
          "execution_count": 80
        }
      ]
    },
    {
      "metadata": {
        "id": "v4Hzkrbz8dpP",
        "colab_type": "code",
        "colab": {
          "autoexec": {
            "startup": false,
            "wait_interval": 0
          }
        }
      },
      "cell_type": "code",
      "source": [
        "with torch.no_grad():\n",
        "    for image,label in test_loader:\n",
        "        image = image.cuda()\n",
        "        label = label.cuda()\n",
        "        output = model(image)\n",
        "        pred = output.max(1,True)[1]\n",
        "        if(pred==label):\n",
        "          correct+=1"
      ],
      "execution_count": 0,
      "outputs": []
    },
    {
      "metadata": {
        "id": "-Uwj0U979KfI",
        "colab_type": "code",
        "colab": {
          "autoexec": {
            "startup": false,
            "wait_interval": 0
          },
          "base_uri": "https://localhost:8080/",
          "height": 35
        },
        "outputId": "cdc46150-fbe9-443b-ea22-3c6af03c9446",
        "executionInfo": {
          "status": "ok",
          "timestamp": 1532967187328,
          "user_tz": -330,
          "elapsed": 4682,
          "user": {
            "displayName": "Sasi Kiran",
            "photoUrl": "//lh5.googleusercontent.com/-RktWNl2yEQ0/AAAAAAAAAAI/AAAAAAAABXI/7N2Jbl3ii0U/s50-c-k-no/photo.jpg",
            "userId": "111192395869899545141"
          }
        }
      },
      "cell_type": "code",
      "source": [
        "correct\n",
        "\n"
      ],
      "execution_count": 82,
      "outputs": [
        {
          "output_type": "execute_result",
          "data": {
            "text/plain": [
              "9865"
            ]
          },
          "metadata": {
            "tags": []
          },
          "execution_count": 82
        }
      ]
    },
    {
      "metadata": {
        "id": "XWXphovcEN_G",
        "colab_type": "code",
        "colab": {
          "autoexec": {
            "startup": false,
            "wait_interval": 0
          },
          "base_uri": "https://localhost:8080/",
          "height": 35
        },
        "outputId": "1dd8dba3-6ce2-426d-f6e6-e74a57965a3f",
        "executionInfo": {
          "status": "ok",
          "timestamp": 1532967192772,
          "user_tz": -330,
          "elapsed": 852,
          "user": {
            "displayName": "Sasi Kiran",
            "photoUrl": "//lh5.googleusercontent.com/-RktWNl2yEQ0/AAAAAAAAAAI/AAAAAAAABXI/7N2Jbl3ii0U/s50-c-k-no/photo.jpg",
            "userId": "111192395869899545141"
          }
        }
      },
      "cell_type": "code",
      "source": [
        "print('Accuracy:'+str(correct/total))"
      ],
      "execution_count": 83,
      "outputs": [
        {
          "output_type": "stream",
          "text": [
            "Accuracy:0.9865\n"
          ],
          "name": "stdout"
        }
      ]
    },
    {
      "metadata": {
        "id": "bloQtmFtfv-Y",
        "colab_type": "code",
        "colab": {
          "autoexec": {
            "startup": false,
            "wait_interval": 0
          }
        }
      },
      "cell_type": "code",
      "source": [
        "correct=0"
      ],
      "execution_count": 0,
      "outputs": []
    },
    {
      "metadata": {
        "id": "BO1LF1Chfxl0",
        "colab_type": "code",
        "colab": {
          "autoexec": {
            "startup": false,
            "wait_interval": 0
          }
        }
      },
      "cell_type": "code",
      "source": [
        "with torch.no_grad():\n",
        "    for image,label in train_loader:\n",
        "        image = image.cuda()\n",
        "        label = label.cuda()\n",
        "        output = model(image)\n",
        "        pred = output.max(1,True)[1]\n",
        "        if(pred==label):\n",
        "          correct+=1"
      ],
      "execution_count": 0,
      "outputs": []
    },
    {
      "metadata": {
        "id": "jW3a3hKqfqRC",
        "colab_type": "code",
        "colab": {
          "autoexec": {
            "startup": false,
            "wait_interval": 0
          }
        }
      },
      "cell_type": "code",
      "source": [
        "total = len(train_loader)"
      ],
      "execution_count": 0,
      "outputs": []
    },
    {
      "metadata": {
        "id": "wm6R79hmfyt6",
        "colab_type": "code",
        "colab": {
          "autoexec": {
            "startup": false,
            "wait_interval": 0
          },
          "base_uri": "https://localhost:8080/",
          "height": 35
        },
        "outputId": "97078bae-d95b-4516-9d37-b7e4d6860a56",
        "executionInfo": {
          "status": "ok",
          "timestamp": 1532967328376,
          "user_tz": -330,
          "elapsed": 853,
          "user": {
            "displayName": "Sasi Kiran",
            "photoUrl": "//lh5.googleusercontent.com/-RktWNl2yEQ0/AAAAAAAAAAI/AAAAAAAABXI/7N2Jbl3ii0U/s50-c-k-no/photo.jpg",
            "userId": "111192395869899545141"
          }
        }
      },
      "cell_type": "code",
      "source": [
        "print('Training set accuracy: '+str(correct/total))"
      ],
      "execution_count": 87,
      "outputs": [
        {
          "output_type": "stream",
          "text": [
            "Training set accuracy: 0.9891166666666666\n"
          ],
          "name": "stdout"
        }
      ]
    },
    {
      "metadata": {
        "id": "ITHLsnK-zflT",
        "colab_type": "code",
        "colab": {
          "autoexec": {
            "startup": false,
            "wait_interval": 0
          }
        }
      },
      "cell_type": "code",
      "source": [
        ""
      ],
      "execution_count": 0,
      "outputs": []
    }
  ]
}
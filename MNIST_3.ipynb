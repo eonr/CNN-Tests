{
  "nbformat": 4,
  "nbformat_minor": 0,
  "metadata": {
    "colab": {
      "name": "MNIST-2.ipynb",
      "version": "0.3.2",
      "provenance": []
    },
    "kernelspec": {
      "name": "python3",
      "display_name": "Python 3"
    },
    "accelerator": "GPU"
  },
  "cells": [
    {
      "metadata": {
        "id": "uYHgxPiedr15",
        "colab_type": "code",
        "colab": {
          "base_uri": "https://localhost:8080/",
          "height": 54
        },
        "outputId": "77acf0d3-5ae2-4bf6-d883-0ad3fb5f2013"
      },
      "cell_type": "code",
      "source": [
        "from os import path\n",
        "from wheel.pep425tags import get_abbr_impl, get_impl_ver, get_abi_tag\n",
        "platform = '{}{}-{}'.format(get_abbr_impl(), get_impl_ver(), get_abi_tag())\n",
        "\n",
        "accelerator = 'cu80' if path.exists('/opt/bin/nvidia-smi') else 'cpu'\n",
        "\n",
        "!pip install -q http://download.pytorch.org/whl/{accelerator}/torch-0.4.0-{platform}-linux_x86_64.whl torchvision\n",
        "import torch\n",
        "print(torch.__version__)\n",
        "print(torch.cuda.is_available())"
      ],
      "execution_count": 1,
      "outputs": [
        {
          "output_type": "stream",
          "text": [
            "0.4.0\n",
            "True\n"
          ],
          "name": "stdout"
        }
      ]
    },
    {
      "metadata": {
        "id": "6WXSslxueGlC",
        "colab_type": "code",
        "colab": {
          "base_uri": "https://localhost:8080/",
          "height": 326
        },
        "outputId": "15c6b61f-2f3a-4675-ec87-75cf2170d896"
      },
      "cell_type": "code",
      "source": [
        "!pip3 install Pillow==4.0.0\n",
        "!pip3 install PIL\n",
        "!pip3 install image"
      ],
      "execution_count": 2,
      "outputs": [
        {
          "output_type": "stream",
          "text": [
            "Collecting Pillow==4.0.0\n",
            "  Using cached https://files.pythonhosted.org/packages/37/e8/b3fbf87b0188d22246678f8cd61e23e31caa1769ebc06f1664e2e5fe8a17/Pillow-4.0.0-cp36-cp36m-manylinux1_x86_64.whl\n",
            "Requirement already satisfied: olefile in /usr/local/lib/python3.6/dist-packages (from Pillow==4.0.0) (0.45.1)\n",
            "\u001b[31mtorchvision 0.2.1 has requirement pillow>=4.1.1, but you'll have pillow 4.0.0 which is incompatible.\u001b[0m\n",
            "Installing collected packages: Pillow\n",
            "  Found existing installation: Pillow 5.2.0\n",
            "    Uninstalling Pillow-5.2.0:\n",
            "      Successfully uninstalled Pillow-5.2.0\n",
            "Successfully installed Pillow-4.0.0\n",
            "Collecting PIL\n",
            "\u001b[31m  Could not find a version that satisfies the requirement PIL (from versions: )\u001b[0m\n",
            "\u001b[31mNo matching distribution found for PIL\u001b[0m\n",
            "Requirement already satisfied: image in /usr/local/lib/python3.6/dist-packages (1.5.24)\n",
            "Requirement already satisfied: pillow in /usr/local/lib/python3.6/dist-packages (from image) (4.0.0)\n",
            "Requirement already satisfied: django in /usr/local/lib/python3.6/dist-packages (from image) (2.1)\n",
            "Requirement already satisfied: olefile in /usr/local/lib/python3.6/dist-packages (from pillow->image) (0.45.1)\n",
            "Requirement already satisfied: pytz in /usr/local/lib/python3.6/dist-packages (from django->image) (2018.5)\n"
          ],
          "name": "stdout"
        }
      ]
    },
    {
      "metadata": {
        "id": "zfvjddlFeIxv",
        "colab_type": "code",
        "colab": {}
      },
      "cell_type": "code",
      "source": [
        "import torch\n",
        "import torchvision\n",
        "import torchvision.transforms as transforms\n",
        "import torchvision.datasets\n",
        "import torch.nn as nn\n",
        "import torch.nn.functional as F"
      ],
      "execution_count": 0,
      "outputs": []
    },
    {
      "metadata": {
        "id": "_5BD05hzyy5P",
        "colab_type": "code",
        "colab": {}
      },
      "cell_type": "code",
      "source": [
        "trans = transforms.Compose([transforms.ToTensor()])"
      ],
      "execution_count": 0,
      "outputs": []
    },
    {
      "metadata": {
        "id": "YoBaCWsrel3U",
        "colab_type": "code",
        "colab": {}
      },
      "cell_type": "code",
      "source": [
        "trainset = torchvision.datasets.MNIST(root='./data',train=True,download=True,transform=trans)"
      ],
      "execution_count": 0,
      "outputs": []
    },
    {
      "metadata": {
        "id": "fZFRfsdMe7aR",
        "colab_type": "code",
        "colab": {}
      },
      "cell_type": "code",
      "source": [
        "testset = torchvision.datasets.MNIST(root='./data',train=False,download=True,transform=trans)"
      ],
      "execution_count": 0,
      "outputs": []
    },
    {
      "metadata": {
        "id": "4MJAVW5thgA7",
        "colab_type": "code",
        "colab": {}
      },
      "cell_type": "code",
      "source": [
        "train_loader = torch.utils.data.DataLoader(\n",
        "                 dataset=trainset,\n",
        "                 shuffle=True,batch_size=10)"
      ],
      "execution_count": 0,
      "outputs": []
    },
    {
      "metadata": {
        "id": "zSM---24h3jy",
        "colab_type": "code",
        "colab": {}
      },
      "cell_type": "code",
      "source": [
        "test_loader = torch.utils.data.DataLoader(dataset=testset,shuffle=True)"
      ],
      "execution_count": 0,
      "outputs": []
    },
    {
      "metadata": {
        "id": "yi6o55Vkh840",
        "colab_type": "code",
        "colab": {}
      },
      "cell_type": "code",
      "source": [
        "class Net(nn.Module):\n",
        "    def __init__(self):\n",
        "        super(Net, self).__init__()\n",
        "        self.conv1 = nn.Conv2d(1, 32,5)\n",
        "        self.pool = nn.MaxPool2d(2, 2)\n",
        "        self.conv2 = nn.Conv2d(32, 64, 5)\n",
        "        self.conv3 = nn.Conv2d(64,64,3,padding=1)\n",
        "        self.conv4 = nn.Conv2d(64,64,3,padding=1)        \n",
        "        self.conv5 = nn.Conv2d(64,64,3,padding=1)\n",
        "        self.conv6 = nn.Conv2d(64,64,3,padding=1)\n",
        "        self.fc1 = nn.Linear(1024, 10)\n",
        "\n",
        "    def forward(self, x):\n",
        "        x = self.pool(F.relu(self.conv1(x)))\n",
        "        x = F.dropout(x)\n",
        "        x = self.pool(F.relu(self.conv2(x)))\n",
        "        x = F.relu(self.conv3(x))\n",
        "        x = F.relu(self.conv4(x))\n",
        "        x = (F.relu(self.conv5(x)))\n",
        "        x = (F.relu(self.conv6(x)))\n",
        "        x = x.view(-1, 1024)\n",
        "        x = self.fc1(x)\n",
        "        return x"
      ],
      "execution_count": 0,
      "outputs": []
    },
    {
      "metadata": {
        "id": "X5oQO8wfhEhC",
        "colab_type": "text"
      },
      "cell_type": "markdown",
      "source": [
        ""
      ]
    },
    {
      "metadata": {
        "id": "cFO6PXnFu_-5",
        "colab_type": "code",
        "colab": {}
      },
      "cell_type": "code",
      "source": [
        "import torch.optim as optim"
      ],
      "execution_count": 0,
      "outputs": []
    },
    {
      "metadata": {
        "id": "qQhvDhkOva3s",
        "colab_type": "code",
        "colab": {}
      },
      "cell_type": "code",
      "source": [
        "loss_func = nn.CrossEntropyLoss()"
      ],
      "execution_count": 0,
      "outputs": []
    },
    {
      "metadata": {
        "id": "7SgMwTp1v4us",
        "colab_type": "code",
        "colab": {}
      },
      "cell_type": "code",
      "source": [
        "model = Net()"
      ],
      "execution_count": 0,
      "outputs": []
    },
    {
      "metadata": {
        "id": "7odw7Xxdz5Yl",
        "colab_type": "code",
        "colab": {}
      },
      "cell_type": "code",
      "source": [
        "model = model.cuda()"
      ],
      "execution_count": 0,
      "outputs": []
    },
    {
      "metadata": {
        "id": "yTh_Fecnvrnp",
        "colab_type": "code",
        "colab": {}
      },
      "cell_type": "code",
      "source": [
        "optimizer = optim.SGD(model.parameters(),lr=0.001,momentum=0.95)"
      ],
      "execution_count": 0,
      "outputs": []
    },
    {
      "metadata": {
        "id": "6Fx-7O-X1QAt",
        "colab_type": "code",
        "colab": {}
      },
      "cell_type": "code",
      "source": [
        "from torch.autograd import Variable"
      ],
      "execution_count": 0,
      "outputs": []
    },
    {
      "metadata": {
        "id": "WDQenbE7wH69",
        "colab_type": "code",
        "colab": {
          "base_uri": "https://localhost:8080/",
          "height": 999
        },
        "outputId": "12926115-0181-4819-e818-bf14c5bd1882"
      },
      "cell_type": "code",
      "source": [
        "for epoch in range(30):\n",
        "  for i,(x,y) in enumerate(train_loader):\n",
        "    \n",
        "    x = x.cuda()\n",
        "    y=y.cuda()\n",
        "    inputs, labels = Variable(x),Variable(y)\n",
        "    optimizer.zero_grad()\n",
        "    answer = model(inputs)\n",
        "    loss = loss_func(answer,labels)\n",
        "    loss.backward()\n",
        "    optimizer.step()\n",
        "    if(i%10000==0):\n",
        "      print(loss)"
      ],
      "execution_count": 16,
      "outputs": [
        {
          "output_type": "stream",
          "text": [
            "tensor(2.3090, device='cuda:0')\n",
            "tensor(0.1094, device='cuda:0')\n",
            "tensor(1.00000e-02 *\n",
            "       2.6253, device='cuda:0')\n",
            "tensor(1.00000e-04 *\n",
            "       2.8381, device='cuda:0')\n",
            "tensor(1.00000e-03 *\n",
            "       2.0780, device='cuda:0')\n",
            "tensor(1.00000e-03 *\n",
            "       5.5758, device='cuda:0')\n",
            "tensor(1.00000e-05 *\n",
            "       2.0790, device='cuda:0')\n",
            "tensor(1.00000e-02 *\n",
            "       2.9298, device='cuda:0')\n",
            "tensor(1.00000e-04 *\n",
            "       1.2817, device='cuda:0')\n",
            "tensor(1.00000e-05 *\n",
            "       1.1063, device='cuda:0')\n",
            "tensor(1.00000e-04 *\n",
            "       5.0774, device='cuda:0')\n",
            "tensor(1.00000e-05 *\n",
            "       2.0599, device='cuda:0')\n",
            "tensor(1.00000e-02 *\n",
            "       2.6320, device='cuda:0')\n",
            "tensor(1.00000e-06 *\n",
            "       4.3869, device='cuda:0')\n",
            "tensor(1.00000e-04 *\n",
            "       1.0357, device='cuda:0')\n",
            "tensor(1.00000e-06 *\n",
            "       4.4823, device='cuda:0')\n",
            "tensor(1.00000e-04 *\n",
            "       9.2087, device='cuda:0')\n",
            "tensor(1.00000e-06 *\n",
            "       2.2888, device='cuda:0')\n",
            "tensor(1.00000e-03 *\n",
            "       1.2340, device='cuda:0')\n",
            "tensor(0., device='cuda:0')\n",
            "tensor(1.00000e-04 *\n",
            "       4.8828, device='cuda:0')\n",
            "tensor(1.00000e-07 *\n",
            "       7.6294, device='cuda:0')\n",
            "tensor(0., device='cuda:0')\n",
            "tensor(1.00000e-05 *\n",
            "       8.4114, device='cuda:0')\n",
            "tensor(1.00000e-05 *\n",
            "       2.1935, device='cuda:0')\n",
            "tensor(0., device='cuda:0')\n",
            "tensor(1.00000e-05 *\n",
            "       5.8174, device='cuda:0')\n",
            "tensor(1.00000e-07 *\n",
            "       3.8147, device='cuda:0')\n",
            "tensor(0., device='cuda:0')\n",
            "tensor(1.00000e-07 *\n",
            "       9.5367, device='cuda:0')\n"
          ],
          "name": "stdout"
        }
      ]
    },
    {
      "metadata": {
        "id": "7jGb0mjc1t9v",
        "colab_type": "code",
        "colab": {}
      },
      "cell_type": "code",
      "source": [
        "correct=0\n",
        "total=len(test_loader)"
      ],
      "execution_count": 0,
      "outputs": []
    },
    {
      "metadata": {
        "id": "iMnoyk2U-Ag4",
        "colab_type": "code",
        "colab": {
          "base_uri": "https://localhost:8080/",
          "height": 35
        },
        "outputId": "4fd68d53-0fc0-4afc-b59d-bc1e6bb3cf7c"
      },
      "cell_type": "code",
      "source": [
        "total"
      ],
      "execution_count": 18,
      "outputs": [
        {
          "output_type": "execute_result",
          "data": {
            "text/plain": [
              "10000"
            ]
          },
          "metadata": {
            "tags": []
          },
          "execution_count": 18
        }
      ]
    },
    {
      "metadata": {
        "id": "v4Hzkrbz8dpP",
        "colab_type": "code",
        "colab": {}
      },
      "cell_type": "code",
      "source": [
        "with torch.no_grad():\n",
        "    for image,label in test_loader:\n",
        "        image = image.cuda()\n",
        "        label = label.cuda()\n",
        "        output = model(image)\n",
        "        pred = output.max(1,True)[1]\n",
        "        if(pred==label):\n",
        "          correct+=1"
      ],
      "execution_count": 0,
      "outputs": []
    },
    {
      "metadata": {
        "id": "-Uwj0U979KfI",
        "colab_type": "code",
        "colab": {
          "base_uri": "https://localhost:8080/",
          "height": 35
        },
        "outputId": "87d5b81c-7267-411a-e30d-65ec4febe7ce"
      },
      "cell_type": "code",
      "source": [
        "correct\n",
        "\n"
      ],
      "execution_count": 20,
      "outputs": [
        {
          "output_type": "execute_result",
          "data": {
            "text/plain": [
              "9923"
            ]
          },
          "metadata": {
            "tags": []
          },
          "execution_count": 20
        }
      ]
    },
    {
      "metadata": {
        "id": "XWXphovcEN_G",
        "colab_type": "code",
        "colab": {
          "base_uri": "https://localhost:8080/",
          "height": 35
        },
        "outputId": "d7610580-b0e6-48f4-f1b0-bdf57af54079"
      },
      "cell_type": "code",
      "source": [
        "print('Accuracy:'+str(correct/total))"
      ],
      "execution_count": 21,
      "outputs": [
        {
          "output_type": "stream",
          "text": [
            "Accuracy:0.9923\n"
          ],
          "name": "stdout"
        }
      ]
    },
    {
      "metadata": {
        "id": "bloQtmFtfv-Y",
        "colab_type": "code",
        "colab": {}
      },
      "cell_type": "code",
      "source": [
        "correct=0"
      ],
      "execution_count": 0,
      "outputs": []
    },
    {
      "metadata": {
        "id": "ITHLsnK-zflT",
        "colab_type": "code",
        "colab": {}
      },
      "cell_type": "code",
      "source": [
        ""
      ],
      "execution_count": 0,
      "outputs": []
    }
  ]
}